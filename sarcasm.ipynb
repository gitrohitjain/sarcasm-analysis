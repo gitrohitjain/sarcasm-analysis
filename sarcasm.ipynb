{
  "nbformat": 4,
  "nbformat_minor": 0,
  "metadata": {
    "accelerator": "GPU",
    "colab": {
      "name": "Course 3 - Week 2 - Lesson 2.ipynb",
      "provenance": [],
      "collapsed_sections": []
    },
    "kernelspec": {
      "display_name": "Python 3",
      "name": "python3"
    }
  },
  "cells": [
    {
      "cell_type": "code",
      "metadata": {
        "id": "XYYDvoskkE61"
      },
      "source": [
        "import json\n",
        "import tensorflow as tf\n",
        "\n",
        "from tensorflow.keras.preprocessing.text import Tokenizer\n",
        "from tensorflow.keras.preprocessing.sequence import pad_sequences"
      ],
      "execution_count": 1,
      "outputs": []
    },
    {
      "cell_type": "code",
      "metadata": {
        "id": "0eJSTTYnkJQd"
      },
      "source": [
        "vocab_size = 10000\n",
        "embedding_dim = 16\n",
        "max_length = 100\n",
        "trunc_type='post'\n",
        "padding_type='post'\n",
        "oov_tok = \"<OOV>\"\n",
        "training_size = 20000"
      ],
      "execution_count": 2,
      "outputs": []
    },
    {
      "cell_type": "code",
      "metadata": {
        "id": "BQVuQrZNkPn9",
        "outputId": "4d041999-96c0-4efc-8ac9-6e3e376e81f7",
        "colab": {
          "base_uri": "https://localhost:8080/",
          "height": 208
        }
      },
      "source": [
        "!wget --no-check-certificate \\\n",
        "    https://storage.googleapis.com/laurencemoroney-blog.appspot.com/sarcasm.json \\\n",
        "    -O /tmp/sarcasm.json"
      ],
      "execution_count": 3,
      "outputs": [
        {
          "output_type": "stream",
          "text": [
            "--2020-10-08 19:01:56--  https://storage.googleapis.com/laurencemoroney-blog.appspot.com/sarcasm.json\n",
            "Resolving storage.googleapis.com (storage.googleapis.com)... 74.125.142.128, 74.125.195.128, 74.125.20.128, ...\n",
            "Connecting to storage.googleapis.com (storage.googleapis.com)|74.125.142.128|:443... connected.\n",
            "HTTP request sent, awaiting response... 200 OK\n",
            "Length: 5643545 (5.4M) [application/json]\n",
            "Saving to: ‘/tmp/sarcasm.json’\n",
            "\n",
            "\r/tmp/sarcasm.json     0%[                    ]       0  --.-KB/s               \r/tmp/sarcasm.json   100%[===================>]   5.38M  --.-KB/s    in 0.05s   \n",
            "\n",
            "2020-10-08 19:01:56 (107 MB/s) - ‘/tmp/sarcasm.json’ saved [5643545/5643545]\n",
            "\n"
          ],
          "name": "stdout"
        }
      ]
    },
    {
      "cell_type": "code",
      "metadata": {
        "id": "oaLaaqhNkUPd"
      },
      "source": [
        "with open(\"/tmp/sarcasm.json\", 'r') as f:\n",
        "    datastore = json.load(f)\n",
        "\n",
        "sentences = []\n",
        "labels = []\n",
        "\n",
        "for item in datastore:\n",
        "    sentences.append(item['headline'])\n",
        "    labels.append(item['is_sarcastic'])"
      ],
      "execution_count": 4,
      "outputs": []
    },
    {
      "cell_type": "code",
      "metadata": {
        "id": "S1sD-7v0kYWk"
      },
      "source": [
        "training_sentences = sentences[0:training_size]\n",
        "testing_sentences = sentences[training_size:]\n",
        "training_labels = labels[0:training_size]\n",
        "testing_labels = labels[training_size:]"
      ],
      "execution_count": 5,
      "outputs": []
    },
    {
      "cell_type": "code",
      "metadata": {
        "id": "3u8UB0MCkZ5N"
      },
      "source": [
        "tokenizer = Tokenizer(num_words=vocab_size, oov_token=oov_tok)\n",
        "tokenizer.fit_on_texts(training_sentences)\n",
        "\n",
        "word_index = tokenizer.word_index\n",
        "\n",
        "training_sequences = tokenizer.texts_to_sequences(training_sentences)\n",
        "training_padded = pad_sequences(training_sequences, maxlen=max_length, padding=padding_type, truncating=trunc_type)\n",
        "\n",
        "testing_sequences = tokenizer.texts_to_sequences(testing_sentences)\n",
        "testing_padded = pad_sequences(testing_sequences, maxlen=max_length, padding=padding_type, truncating=trunc_type)"
      ],
      "execution_count": 6,
      "outputs": []
    },
    {
      "cell_type": "code",
      "metadata": {
        "id": "GrAlWBKf99Ya"
      },
      "source": [
        "# Need this block to get it to work with TensorFlow 2.x\n",
        "import numpy as np\n",
        "\n",
        "training_padded = np.array(training_padded)\n",
        "training_labels = np.array(training_labels)\n",
        "testing_padded = np.array(testing_padded)\n",
        "testing_labels = np.array(testing_labels)"
      ],
      "execution_count": 7,
      "outputs": []
    },
    {
      "cell_type": "code",
      "metadata": {
        "id": "FufaT4vlkiDE"
      },
      "source": [
        "model = tf.keras.Sequential([\n",
        "    tf.keras.layers.Embedding(vocab_size, embedding_dim, input_length=max_length),\n",
        "    tf.keras.layers.GlobalAveragePooling1D(),\n",
        "    tf.keras.layers.Dense(24, activation='relu'),\n",
        "    Dropout\n",
        "    tf.keras.layers.Dense(1, activation='sigmoid')\n",
        "])\n",
        "\n",
        "model.compile(loss='binary_crossentropy',optimizer='adam',metrics=['accuracy'])"
      ],
      "execution_count": 8,
      "outputs": []
    },
    {
      "cell_type": "code",
      "metadata": {
        "id": "XfDt1hmYkiys",
        "outputId": "1eb15579-dc61-4198-b9f0-2f39359d3ce3",
        "colab": {
          "base_uri": "https://localhost:8080/",
          "height": 294
        }
      },
      "source": [
        "model.summary()"
      ],
      "execution_count": 9,
      "outputs": [
        {
          "output_type": "stream",
          "text": [
            "Model: \"sequential\"\n",
            "_________________________________________________________________\n",
            "Layer (type)                 Output Shape              Param #   \n",
            "=================================================================\n",
            "embedding (Embedding)        (None, 100, 16)           160000    \n",
            "_________________________________________________________________\n",
            "global_average_pooling1d (Gl (None, 16)                0         \n",
            "_________________________________________________________________\n",
            "dense (Dense)                (None, 24)                408       \n",
            "_________________________________________________________________\n",
            "dense_1 (Dense)              (None, 1)                 25        \n",
            "=================================================================\n",
            "Total params: 160,433\n",
            "Trainable params: 160,433\n",
            "Non-trainable params: 0\n",
            "_________________________________________________________________\n"
          ],
          "name": "stdout"
        }
      ]
    },
    {
      "cell_type": "code",
      "metadata": {
        "id": "2DTKQFf1kkyc",
        "outputId": "925ac5f0-5d2b-4f3c-a672-9ee3c25c894f",
        "colab": {
          "base_uri": "https://localhost:8080/",
          "height": 1000
        }
      },
      "source": [
        "num_epochs = 30\n",
        "history = model.fit(training_padded, training_labels, epochs=num_epochs, validation_data=(testing_padded, testing_labels), verbose=2)"
      ],
      "execution_count": 10,
      "outputs": [
        {
          "output_type": "stream",
          "text": [
            "Epoch 1/30\n",
            "625/625 - 2s - loss: 0.6604 - accuracy: 0.5875 - val_loss: 0.5523 - val_accuracy: 0.7715\n",
            "Epoch 2/30\n",
            "625/625 - 3s - loss: 0.4083 - accuracy: 0.8386 - val_loss: 0.3747 - val_accuracy: 0.8457\n",
            "Epoch 3/30\n",
            "625/625 - 2s - loss: 0.3001 - accuracy: 0.8801 - val_loss: 0.3494 - val_accuracy: 0.8524\n",
            "Epoch 4/30\n",
            "625/625 - 2s - loss: 0.2486 - accuracy: 0.9026 - val_loss: 0.3476 - val_accuracy: 0.8559\n",
            "Epoch 5/30\n",
            "625/625 - 3s - loss: 0.2158 - accuracy: 0.9165 - val_loss: 0.3468 - val_accuracy: 0.8518\n",
            "Epoch 6/30\n",
            "625/625 - 2s - loss: 0.1883 - accuracy: 0.9281 - val_loss: 0.3751 - val_accuracy: 0.8426\n",
            "Epoch 7/30\n",
            "625/625 - 2s - loss: 0.1670 - accuracy: 0.9365 - val_loss: 0.3715 - val_accuracy: 0.8515\n",
            "Epoch 8/30\n",
            "625/625 - 2s - loss: 0.1504 - accuracy: 0.9434 - val_loss: 0.4366 - val_accuracy: 0.8322\n",
            "Epoch 9/30\n",
            "625/625 - 2s - loss: 0.1349 - accuracy: 0.9507 - val_loss: 0.4209 - val_accuracy: 0.8423\n",
            "Epoch 10/30\n",
            "625/625 - 2s - loss: 0.1203 - accuracy: 0.9585 - val_loss: 0.4305 - val_accuracy: 0.8474\n",
            "Epoch 11/30\n",
            "625/625 - 2s - loss: 0.1097 - accuracy: 0.9635 - val_loss: 0.4520 - val_accuracy: 0.8465\n",
            "Epoch 12/30\n",
            "625/625 - 2s - loss: 0.0997 - accuracy: 0.9666 - val_loss: 0.4942 - val_accuracy: 0.8387\n",
            "Epoch 13/30\n",
            "625/625 - 2s - loss: 0.0925 - accuracy: 0.9687 - val_loss: 0.5054 - val_accuracy: 0.8438\n",
            "Epoch 14/30\n",
            "625/625 - 2s - loss: 0.0841 - accuracy: 0.9722 - val_loss: 0.5307 - val_accuracy: 0.8407\n",
            "Epoch 15/30\n",
            "625/625 - 3s - loss: 0.0755 - accuracy: 0.9754 - val_loss: 0.5704 - val_accuracy: 0.8377\n",
            "Epoch 16/30\n",
            "625/625 - 2s - loss: 0.0704 - accuracy: 0.9772 - val_loss: 0.5987 - val_accuracy: 0.8323\n",
            "Epoch 17/30\n",
            "625/625 - 2s - loss: 0.0643 - accuracy: 0.9804 - val_loss: 0.6363 - val_accuracy: 0.8275\n",
            "Epoch 18/30\n",
            "625/625 - 2s - loss: 0.0587 - accuracy: 0.9819 - val_loss: 0.6655 - val_accuracy: 0.8307\n",
            "Epoch 19/30\n",
            "625/625 - 2s - loss: 0.0572 - accuracy: 0.9809 - val_loss: 0.7132 - val_accuracy: 0.8283\n",
            "Epoch 20/30\n",
            "625/625 - 2s - loss: 0.0504 - accuracy: 0.9850 - val_loss: 0.7396 - val_accuracy: 0.8255\n",
            "Epoch 21/30\n",
            "625/625 - 2s - loss: 0.0458 - accuracy: 0.9862 - val_loss: 0.7684 - val_accuracy: 0.8231\n",
            "Epoch 22/30\n",
            "625/625 - 2s - loss: 0.0440 - accuracy: 0.9863 - val_loss: 0.8067 - val_accuracy: 0.8219\n",
            "Epoch 23/30\n",
            "625/625 - 2s - loss: 0.0399 - accuracy: 0.9880 - val_loss: 0.8735 - val_accuracy: 0.8195\n",
            "Epoch 24/30\n",
            "625/625 - 3s - loss: 0.0359 - accuracy: 0.9901 - val_loss: 0.9310 - val_accuracy: 0.8171\n",
            "Epoch 25/30\n",
            "625/625 - 2s - loss: 0.0336 - accuracy: 0.9905 - val_loss: 0.9785 - val_accuracy: 0.8162\n",
            "Epoch 26/30\n",
            "625/625 - 2s - loss: 0.0305 - accuracy: 0.9915 - val_loss: 0.9847 - val_accuracy: 0.8167\n",
            "Epoch 27/30\n",
            "625/625 - 2s - loss: 0.0281 - accuracy: 0.9923 - val_loss: 1.0145 - val_accuracy: 0.8168\n",
            "Epoch 28/30\n",
            "625/625 - 2s - loss: 0.0263 - accuracy: 0.9929 - val_loss: 1.0469 - val_accuracy: 0.8159\n",
            "Epoch 29/30\n",
            "625/625 - 2s - loss: 0.0235 - accuracy: 0.9936 - val_loss: 1.0869 - val_accuracy: 0.8122\n",
            "Epoch 30/30\n",
            "625/625 - 2s - loss: 0.0246 - accuracy: 0.9927 - val_loss: 1.1050 - val_accuracy: 0.8107\n"
          ],
          "name": "stdout"
        }
      ]
    },
    {
      "cell_type": "code",
      "metadata": {
        "id": "2HYfBKXjkmU8",
        "outputId": "2abcfaa9-e786-4227-f651-0ce68501c662",
        "colab": {
          "base_uri": "https://localhost:8080/",
          "height": 541
        }
      },
      "source": [
        "import matplotlib.pyplot as plt\n",
        "\n",
        "def plot_graphs(history, string):\n",
        "  plt.plot(history.history[string])\n",
        "  plt.plot(history.history['val_'+string])\n",
        "  plt.xlabel(\"Epochs\")\n",
        "  plt.ylabel(string)\n",
        "  plt.legend([string, 'val_'+string])\n",
        "  plt.show()\n",
        "  \n",
        "plot_graphs(history, \"accuracy\")\n",
        "plot_graphs(history, \"loss\")"
      ],
      "execution_count": 11,
      "outputs": [
        {
          "output_type": "display_data",
          "data": {
            "image/png": "[encoded data removed]",
            "text/plain": [
              "<Figure size 432x288 with 1 Axes>"
            ]
          },
          "metadata": {
            "tags": [],
            "needs_background": "light"
          }
        },
        {
          "output_type": "display_data",
          "data": {
            "image/png": "[encoded data removed]",
            "text/plain": [
              "<Figure size 432x288 with 1 Axes>"
            ]
          },
          "metadata": {
            "tags": [],
            "needs_background": "light"
          }
        }
      ]
    },
    {
      "cell_type": "code",
      "metadata": {
        "id": "cG8-ArY-qDcz",
        "outputId": "66c229c2-cb1f-4549-a6ee-b56b9b59314c",
        "colab": {
          "base_uri": "https://localhost:8080/",
          "height": 52
        }
      },
      "source": [
        "sentence = [\"granny starting to fear spiders in the garden might be real\", \"game of thrones season finale showing this sunday night\"]\n",
        "sequences = tokenizer.texts_to_sequences(sentence)\n",
        "padded = pad_sequences(sequences, maxlen=max_length, padding=padding_type, truncating=trunc_type)\n",
        "print(model.predict(padded))"
      ],
      "execution_count": 32,
      "outputs": [
        {
          "output_type": "stream",
          "text": [
            "[[9.5619106e-01]\n",
            " [1.4824507e-05]]\n"
          ],
          "name": "stdout"
        }
      ]
    },
    {
      "cell_type": "code",
      "metadata": {
        "id": "00uiGpODvuu1"
      },
      "source": [
        "from tensorflow.keras.layers import Dense, Input, LSTM, Embedding, Dropout, Activation, Flatten, Bidirectional, GlobalMaxPool1D"
      ],
      "execution_count": 34,
      "outputs": []
    },
    {
      "cell_type": "code",
      "metadata": {
        "id": "yS0QWtjrutaw"
      },
      "source": [
        "model1 = tf.keras.Sequential()\n",
        "\n",
        "model1.add(Embedding(vocab_size, embedding_dim, input_length=max_length))\n",
        "model1.add(Bidirectional(LSTM(128, return_sequences = True)))\n",
        "model1.add(GlobalMaxPool1D())\n",
        "model1.add(Dense(40, activation=\"relu\"))\n",
        "model1.add(Dropout(0.5))\n",
        "model1.add(Dense(20, activation=\"relu\"))\n",
        "model1.add(Dropout(0.5))\n",
        "model1.add(Dense(1, activation=\"sigmoid\"))\n",
        "\n",
        "model1.compile(loss='binary_crossentropy', optimizer='adam', metrics=['accuracy'])"
      ],
      "execution_count": 36,
      "outputs": []
    },
    {
      "cell_type": "code",
      "metadata": {
        "id": "KG35GJVdv3G8",
        "outputId": "c0532729-d85e-498f-dd4c-098758e182f0",
        "colab": {
          "base_uri": "https://localhost:8080/",
          "height": 1000
        }
      },
      "source": [
        "num_epochs = 30\n",
        "history = model1.fit(training_padded, training_labels, epochs=num_epochs, validation_data=(testing_padded, testing_labels), verbose=2)"
      ],
      "execution_count": 38,
      "outputs": [
        {
          "output_type": "stream",
          "text": [
            "Epoch 1/30\n",
            "625/625 - 9s - loss: 0.5302 - accuracy: 0.7139 - val_loss: 0.3504 - val_accuracy: 0.8478\n",
            "Epoch 2/30\n",
            "625/625 - 9s - loss: 0.2946 - accuracy: 0.8908 - val_loss: 0.3463 - val_accuracy: 0.8544\n",
            "Epoch 3/30\n",
            "625/625 - 9s - loss: 0.1901 - accuracy: 0.9342 - val_loss: 0.3690 - val_accuracy: 0.8536\n",
            "Epoch 4/30\n",
            "625/625 - 9s - loss: 0.1244 - accuracy: 0.9596 - val_loss: 0.4592 - val_accuracy: 0.8492\n",
            "Epoch 5/30\n",
            "625/625 - 9s - loss: 0.0877 - accuracy: 0.9739 - val_loss: 0.5240 - val_accuracy: 0.8445\n",
            "Epoch 6/30\n",
            "625/625 - 9s - loss: 0.0633 - accuracy: 0.9816 - val_loss: 0.8475 - val_accuracy: 0.8433\n",
            "Epoch 7/30\n",
            "625/625 - 9s - loss: 0.0434 - accuracy: 0.9861 - val_loss: 0.9924 - val_accuracy: 0.8369\n",
            "Epoch 8/30\n",
            "625/625 - 9s - loss: 0.0353 - accuracy: 0.9902 - val_loss: 1.3621 - val_accuracy: 0.8284\n",
            "Epoch 9/30\n",
            "625/625 - 9s - loss: 0.0251 - accuracy: 0.9923 - val_loss: 1.4834 - val_accuracy: 0.8372\n",
            "Epoch 10/30\n",
            "625/625 - 9s - loss: 0.0219 - accuracy: 0.9940 - val_loss: 1.6520 - val_accuracy: 0.8308\n",
            "Epoch 11/30\n",
            "625/625 - 9s - loss: 0.0193 - accuracy: 0.9942 - val_loss: 1.4012 - val_accuracy: 0.8371\n",
            "Epoch 12/30\n",
            "625/625 - 9s - loss: 0.0158 - accuracy: 0.9951 - val_loss: 1.7497 - val_accuracy: 0.8365\n",
            "Epoch 13/30\n",
            "625/625 - 9s - loss: 0.0164 - accuracy: 0.9949 - val_loss: 1.8619 - val_accuracy: 0.8366\n",
            "Epoch 14/30\n",
            "625/625 - 9s - loss: 0.0141 - accuracy: 0.9961 - val_loss: 1.6077 - val_accuracy: 0.8353\n",
            "Epoch 15/30\n",
            "625/625 - 9s - loss: 0.0111 - accuracy: 0.9970 - val_loss: 1.9456 - val_accuracy: 0.8322\n",
            "Epoch 16/30\n",
            "625/625 - 9s - loss: 0.0079 - accuracy: 0.9980 - val_loss: 2.9031 - val_accuracy: 0.8305\n",
            "Epoch 17/30\n",
            "625/625 - 9s - loss: 0.0110 - accuracy: 0.9967 - val_loss: 2.3058 - val_accuracy: 0.8213\n",
            "Epoch 18/30\n",
            "625/625 - 9s - loss: 0.0092 - accuracy: 0.9979 - val_loss: 1.7872 - val_accuracy: 0.8301\n",
            "Epoch 19/30\n",
            "625/625 - 9s - loss: 0.0088 - accuracy: 0.9979 - val_loss: 2.4364 - val_accuracy: 0.8326\n",
            "Epoch 20/30\n",
            "625/625 - 9s - loss: 0.0065 - accuracy: 0.9983 - val_loss: 2.6838 - val_accuracy: 0.8307\n",
            "Epoch 21/30\n",
            "625/625 - 9s - loss: 0.0092 - accuracy: 0.9973 - val_loss: 2.8452 - val_accuracy: 0.8308\n",
            "Epoch 22/30\n",
            "625/625 - 9s - loss: 0.0072 - accuracy: 0.9980 - val_loss: 2.9227 - val_accuracy: 0.8264\n",
            "Epoch 23/30\n",
            "625/625 - 9s - loss: 0.0080 - accuracy: 0.9976 - val_loss: 2.6185 - val_accuracy: 0.8259\n",
            "Epoch 24/30\n",
            "625/625 - 9s - loss: 0.0078 - accuracy: 0.9976 - val_loss: 2.3969 - val_accuracy: 0.8302\n",
            "Epoch 25/30\n",
            "625/625 - 9s - loss: 0.0162 - accuracy: 0.9969 - val_loss: 2.0472 - val_accuracy: 0.8272\n",
            "Epoch 26/30\n",
            "625/625 - 9s - loss: 0.0094 - accuracy: 0.9967 - val_loss: 2.6083 - val_accuracy: 0.8314\n",
            "Epoch 27/30\n",
            "625/625 - 9s - loss: 0.0061 - accuracy: 0.9983 - val_loss: 2.7700 - val_accuracy: 0.8258\n",
            "Epoch 28/30\n",
            "625/625 - 9s - loss: 0.0038 - accuracy: 0.9987 - val_loss: 3.1941 - val_accuracy: 0.8310\n",
            "Epoch 29/30\n",
            "625/625 - 9s - loss: 0.0037 - accuracy: 0.9987 - val_loss: 3.6775 - val_accuracy: 0.8310\n",
            "Epoch 30/30\n",
            "625/625 - 9s - loss: 0.0020 - accuracy: 0.9995 - val_loss: 3.9944 - val_accuracy: 0.8322\n"
          ],
          "name": "stdout"
        }
      ]
    },
    {
      "cell_type": "code",
      "metadata": {
        "id": "Usvkiv7awCHb"
      },
      "source": [
        ""
      ],
      "execution_count": null,
      "outputs": []
    }
  ]
}